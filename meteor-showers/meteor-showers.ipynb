{
 "metadata": {
  "language_info": {
   "codemirror_mode": {
    "name": "ipython",
    "version": 3
   },
   "file_extension": ".py",
   "mimetype": "text/x-python",
   "name": "python",
   "nbconvert_exporter": "python",
   "pygments_lexer": "ipython3",
   "version": "3.7.9-final"
  },
  "orig_nbformat": 2,
  "kernelspec": {
   "name": "Python 3.7.9 64-bit ('myenv': conda)",
   "display_name": "Python 3.7.9 64-bit ('myenv': conda)",
   "metadata": {
    "interpreter": {
     "hash": "f32c4f7c2dc5b263047f90b639c0bd803d61d96c9c8175f1266625614b74b768"
    }
   }
  }
 },
 "nbformat": 4,
 "nbformat_minor": 2,
 "cells": [
  {
   "cell_type": "code",
   "execution_count": 2,
   "metadata": {},
   "outputs": [],
   "source": [
    "import numpy as np \n",
    "import pandas as pd"
   ]
  },
  {
   "cell_type": "code",
   "execution_count": 3,
   "metadata": {},
   "outputs": [],
   "source": [
    "meteor_showers = pd.read_csv('./data/meteorshowers.csv')\n",
    "moon_phases = pd.read_csv('./data/moonphases.csv')\n",
    "constellations = pd.read_csv('./data/constellations.csv')\n",
    "cities = pd.read_csv('./data/cities.csv')"
   ]
  },
  {
   "cell_type": "code",
   "execution_count": 4,
   "metadata": {},
   "outputs": [],
   "source": [
    "change_meteor_shower = {'name':'Chang\\'e','radiant':'Draco','bestmonth':'october','startmonth':'october','startday':1,'endmonth':'october','endday':31,'hemisphere':'northern','preferredhemisphere':'northern'}\n",
    "\n",
    "meteor_showers = meteor_showers.append(change_meteor_shower, ignore_index=True)"
   ]
  },
  {
   "cell_type": "code",
   "execution_count": 5,
   "metadata": {},
   "outputs": [],
   "source": [
    "draco_constellation = {'constellation':'Draco','bestmonth':'july','latitudestart':90,'latitudeend':-15,'besttime':2100,'hemisphere':'northern'}\n",
    "\n",
    "constellations = constellations.append(draco_constellation, ignore_index=True)"
   ]
  },
  {
   "cell_type": "code",
   "execution_count": 6,
   "metadata": {},
   "outputs": [
    {
     "output_type": "execute_result",
     "data": {
      "text/plain": [
       "           name   radiant bestmonth startmonth  startday  endmonth  endday  \\\n",
       "0        Lyrids      Lyra     april      april        21     april      22   \n",
       "1  Eta Aquarids  Aquarius       may      april        19       may      28   \n",
       "2      Orionids     Orion   october    october         2  november       7   \n",
       "3      Perseids   Perseus    august       july        14    august      24   \n",
       "4       Leonids       Leo  november   november         6  november      30   \n",
       "\n",
       "           hemisphere preferredhemisphere  \n",
       "0            northern            northern  \n",
       "1  northern, southern            southern  \n",
       "2  northern, southern  northern, southern  \n",
       "3            northern            northern  \n",
       "4  northern, southern  northern, southern  "
      ],
      "text/html": "<div>\n<style scoped>\n    .dataframe tbody tr th:only-of-type {\n        vertical-align: middle;\n    }\n\n    .dataframe tbody tr th {\n        vertical-align: top;\n    }\n\n    .dataframe thead th {\n        text-align: right;\n    }\n</style>\n<table border=\"1\" class=\"dataframe\">\n  <thead>\n    <tr style=\"text-align: right;\">\n      <th></th>\n      <th>name</th>\n      <th>radiant</th>\n      <th>bestmonth</th>\n      <th>startmonth</th>\n      <th>startday</th>\n      <th>endmonth</th>\n      <th>endday</th>\n      <th>hemisphere</th>\n      <th>preferredhemisphere</th>\n    </tr>\n  </thead>\n  <tbody>\n    <tr>\n      <th>0</th>\n      <td>Lyrids</td>\n      <td>Lyra</td>\n      <td>april</td>\n      <td>april</td>\n      <td>21</td>\n      <td>april</td>\n      <td>22</td>\n      <td>northern</td>\n      <td>northern</td>\n    </tr>\n    <tr>\n      <th>1</th>\n      <td>Eta Aquarids</td>\n      <td>Aquarius</td>\n      <td>may</td>\n      <td>april</td>\n      <td>19</td>\n      <td>may</td>\n      <td>28</td>\n      <td>northern, southern</td>\n      <td>southern</td>\n    </tr>\n    <tr>\n      <th>2</th>\n      <td>Orionids</td>\n      <td>Orion</td>\n      <td>october</td>\n      <td>october</td>\n      <td>2</td>\n      <td>november</td>\n      <td>7</td>\n      <td>northern, southern</td>\n      <td>northern, southern</td>\n    </tr>\n    <tr>\n      <th>3</th>\n      <td>Perseids</td>\n      <td>Perseus</td>\n      <td>august</td>\n      <td>july</td>\n      <td>14</td>\n      <td>august</td>\n      <td>24</td>\n      <td>northern</td>\n      <td>northern</td>\n    </tr>\n    <tr>\n      <th>4</th>\n      <td>Leonids</td>\n      <td>Leo</td>\n      <td>november</td>\n      <td>november</td>\n      <td>6</td>\n      <td>november</td>\n      <td>30</td>\n      <td>northern, southern</td>\n      <td>northern, southern</td>\n    </tr>\n  </tbody>\n</table>\n</div>"
     },
     "metadata": {},
     "execution_count": 6
    }
   ],
   "source": [
    "meteor_showers.head()"
   ]
  },
  {
   "cell_type": "code",
   "execution_count": 7,
   "metadata": {},
   "outputs": [
    {
     "output_type": "stream",
     "name": "stdout",
     "text": [
      "<class 'pandas.core.frame.DataFrame'>\nRangeIndex: 6 entries, 0 to 5\nData columns (total 9 columns):\n #   Column               Non-Null Count  Dtype \n---  ------               --------------  ----- \n 0   name                 6 non-null      object\n 1   radiant              6 non-null      object\n 2   bestmonth            6 non-null      object\n 3   startmonth           6 non-null      object\n 4   startday             6 non-null      int64 \n 5   endmonth             6 non-null      object\n 6   endday               6 non-null      int64 \n 7   hemisphere           6 non-null      object\n 8   preferredhemisphere  6 non-null      object\ndtypes: int64(2), object(7)\nmemory usage: 560.0+ bytes\n"
     ]
    }
   ],
   "source": [
    "meteor_showers.info() "
   ]
  },
  {
   "cell_type": "code",
   "execution_count": 8,
   "metadata": {},
   "outputs": [
    {
     "output_type": "execute_result",
     "data": {
      "text/plain": [
       "     month  day      moonphase specialevent\n",
       "0  january    1            NaN          NaN\n",
       "1  january    2  first quarter          NaN\n",
       "2  january    3            NaN          NaN\n",
       "3  january    4            NaN          NaN\n",
       "4  january    5            NaN          NaN"
      ],
      "text/html": "<div>\n<style scoped>\n    .dataframe tbody tr th:only-of-type {\n        vertical-align: middle;\n    }\n\n    .dataframe tbody tr th {\n        vertical-align: top;\n    }\n\n    .dataframe thead th {\n        text-align: right;\n    }\n</style>\n<table border=\"1\" class=\"dataframe\">\n  <thead>\n    <tr style=\"text-align: right;\">\n      <th></th>\n      <th>month</th>\n      <th>day</th>\n      <th>moonphase</th>\n      <th>specialevent</th>\n    </tr>\n  </thead>\n  <tbody>\n    <tr>\n      <th>0</th>\n      <td>january</td>\n      <td>1</td>\n      <td>NaN</td>\n      <td>NaN</td>\n    </tr>\n    <tr>\n      <th>1</th>\n      <td>january</td>\n      <td>2</td>\n      <td>first quarter</td>\n      <td>NaN</td>\n    </tr>\n    <tr>\n      <th>2</th>\n      <td>january</td>\n      <td>3</td>\n      <td>NaN</td>\n      <td>NaN</td>\n    </tr>\n    <tr>\n      <th>3</th>\n      <td>january</td>\n      <td>4</td>\n      <td>NaN</td>\n      <td>NaN</td>\n    </tr>\n    <tr>\n      <th>4</th>\n      <td>january</td>\n      <td>5</td>\n      <td>NaN</td>\n      <td>NaN</td>\n    </tr>\n  </tbody>\n</table>\n</div>"
     },
     "metadata": {},
     "execution_count": 8
    }
   ],
   "source": [
    "moon_phases.head()"
   ]
  },
  {
   "cell_type": "code",
   "execution_count": 9,
   "metadata": {},
   "outputs": [
    {
     "output_type": "stream",
     "name": "stdout",
     "text": [
      "<class 'pandas.core.frame.DataFrame'>\nRangeIndex: 366 entries, 0 to 365\nData columns (total 4 columns):\n #   Column        Non-Null Count  Dtype \n---  ------        --------------  ----- \n 0   month         366 non-null    object\n 1   day           366 non-null    int64 \n 2   moonphase     50 non-null     object\n 3   specialevent  10 non-null     object\ndtypes: int64(1), object(3)\nmemory usage: 11.6+ KB\n"
     ]
    }
   ],
   "source": [
    "moon_phases.info()"
   ]
  },
  {
   "cell_type": "code",
   "execution_count": 10,
   "metadata": {},
   "outputs": [
    {
     "output_type": "execute_result",
     "data": {
      "text/plain": [
       "  constellation bestmonth  latitudestart  latitudeend besttime hemisphere\n",
       "0          Lyra    august             90          -40    21:00   northern\n",
       "1      Aquarius   october             65          -90    21:00   southern\n",
       "2         Orion   january             85          -75    21:00   northern\n",
       "3       Perseus  december             90          -35    21:00   northern\n",
       "4           Leo     april             90           65    21:00   northern"
      ],
      "text/html": "<div>\n<style scoped>\n    .dataframe tbody tr th:only-of-type {\n        vertical-align: middle;\n    }\n\n    .dataframe tbody tr th {\n        vertical-align: top;\n    }\n\n    .dataframe thead th {\n        text-align: right;\n    }\n</style>\n<table border=\"1\" class=\"dataframe\">\n  <thead>\n    <tr style=\"text-align: right;\">\n      <th></th>\n      <th>constellation</th>\n      <th>bestmonth</th>\n      <th>latitudestart</th>\n      <th>latitudeend</th>\n      <th>besttime</th>\n      <th>hemisphere</th>\n    </tr>\n  </thead>\n  <tbody>\n    <tr>\n      <th>0</th>\n      <td>Lyra</td>\n      <td>august</td>\n      <td>90</td>\n      <td>-40</td>\n      <td>21:00</td>\n      <td>northern</td>\n    </tr>\n    <tr>\n      <th>1</th>\n      <td>Aquarius</td>\n      <td>october</td>\n      <td>65</td>\n      <td>-90</td>\n      <td>21:00</td>\n      <td>southern</td>\n    </tr>\n    <tr>\n      <th>2</th>\n      <td>Orion</td>\n      <td>january</td>\n      <td>85</td>\n      <td>-75</td>\n      <td>21:00</td>\n      <td>northern</td>\n    </tr>\n    <tr>\n      <th>3</th>\n      <td>Perseus</td>\n      <td>december</td>\n      <td>90</td>\n      <td>-35</td>\n      <td>21:00</td>\n      <td>northern</td>\n    </tr>\n    <tr>\n      <th>4</th>\n      <td>Leo</td>\n      <td>april</td>\n      <td>90</td>\n      <td>65</td>\n      <td>21:00</td>\n      <td>northern</td>\n    </tr>\n  </tbody>\n</table>\n</div>"
     },
     "metadata": {},
     "execution_count": 10
    }
   ],
   "source": [
    "constellations.head()"
   ]
  },
  {
   "cell_type": "code",
   "execution_count": 11,
   "metadata": {},
   "outputs": [
    {
     "output_type": "stream",
     "name": "stdout",
     "text": [
      "<class 'pandas.core.frame.DataFrame'>\nRangeIndex: 6 entries, 0 to 5\nData columns (total 6 columns):\n #   Column         Non-Null Count  Dtype \n---  ------         --------------  ----- \n 0   constellation  6 non-null      object\n 1   bestmonth      6 non-null      object\n 2   latitudestart  6 non-null      int64 \n 3   latitudeend    6 non-null      int64 \n 4   besttime       6 non-null      object\n 5   hemisphere     6 non-null      object\ndtypes: int64(2), object(4)\nmemory usage: 416.0+ bytes\n"
     ]
    }
   ],
   "source": [
    "constellations.info()"
   ]
  },
  {
   "cell_type": "code",
   "execution_count": 12,
   "metadata": {},
   "outputs": [
    {
     "output_type": "execute_result",
     "data": {
      "text/plain": [
       "          city  latitude               country\n",
       "0    Abu Dhabi     24.47  United Arab Emirates\n",
       "1        Abuja      9.07               Nigeria\n",
       "2        Accra      5.55                 Ghana\n",
       "3    Adamstown    -25.07      Pitcairn Islands\n",
       "4  Addis Ababa      9.02              Ethiopia"
      ],
      "text/html": "<div>\n<style scoped>\n    .dataframe tbody tr th:only-of-type {\n        vertical-align: middle;\n    }\n\n    .dataframe tbody tr th {\n        vertical-align: top;\n    }\n\n    .dataframe thead th {\n        text-align: right;\n    }\n</style>\n<table border=\"1\" class=\"dataframe\">\n  <thead>\n    <tr style=\"text-align: right;\">\n      <th></th>\n      <th>city</th>\n      <th>latitude</th>\n      <th>country</th>\n    </tr>\n  </thead>\n  <tbody>\n    <tr>\n      <th>0</th>\n      <td>Abu Dhabi</td>\n      <td>24.47</td>\n      <td>United Arab Emirates</td>\n    </tr>\n    <tr>\n      <th>1</th>\n      <td>Abuja</td>\n      <td>9.07</td>\n      <td>Nigeria</td>\n    </tr>\n    <tr>\n      <th>2</th>\n      <td>Accra</td>\n      <td>5.55</td>\n      <td>Ghana</td>\n    </tr>\n    <tr>\n      <th>3</th>\n      <td>Adamstown</td>\n      <td>-25.07</td>\n      <td>Pitcairn Islands</td>\n    </tr>\n    <tr>\n      <th>4</th>\n      <td>Addis Ababa</td>\n      <td>9.02</td>\n      <td>Ethiopia</td>\n    </tr>\n  </tbody>\n</table>\n</div>"
     },
     "metadata": {},
     "execution_count": 12
    }
   ],
   "source": [
    "cities.head()"
   ]
  },
  {
   "cell_type": "code",
   "execution_count": 13,
   "metadata": {},
   "outputs": [
    {
     "output_type": "stream",
     "name": "stdout",
     "text": [
      "<class 'pandas.core.frame.DataFrame'>\nRangeIndex: 256 entries, 0 to 255\nData columns (total 3 columns):\n #   Column    Non-Null Count  Dtype  \n---  ------    --------------  -----  \n 0   city      256 non-null    object \n 1   latitude  256 non-null    float64\n 2   country   256 non-null    object \ndtypes: float64(1), object(2)\nmemory usage: 6.1+ KB\n"
     ]
    }
   ],
   "source": [
    "cities.info()"
   ]
  },
  {
   "cell_type": "code",
   "execution_count": 14,
   "metadata": {},
   "outputs": [],
   "source": [
    "months = {'january' : 1, 'february' : 2, 'march' : 3, 'april' : 4, 'may' : 5, 'june' : 6, 'july' : 7, 'august' : 8, 'september' : 9, 'october' : 10, 'november' : 11, 'december' : 12}\n"
   ]
  },
  {
   "cell_type": "code",
   "execution_count": 15,
   "metadata": {},
   "outputs": [],
   "source": [
    "meteor_showers.bestmonth = meteor_showers.bestmonth.map(months)\n",
    "meteor_showers.startmonth = meteor_showers.startmonth.map(months)\n",
    "meteor_showers.endmonth = meteor_showers.endmonth.map(months)\n",
    "moon_phases.month = moon_phases.month.map(months)\n",
    "constellations.bestmonth = constellations.bestmonth.map(months)"
   ]
  },
  {
   "cell_type": "code",
   "execution_count": 16,
   "metadata": {},
   "outputs": [
    {
     "output_type": "execute_result",
     "data": {
      "text/plain": [
       "           name   radiant  bestmonth  startmonth  startday  endmonth  endday  \\\n",
       "0        Lyrids      Lyra          4           4        21         4      22   \n",
       "1  Eta Aquarids  Aquarius          5           4        19         5      28   \n",
       "2      Orionids     Orion         10          10         2        11       7   \n",
       "3      Perseids   Perseus          8           7        14         8      24   \n",
       "4       Leonids       Leo         11          11         6        11      30   \n",
       "\n",
       "           hemisphere preferredhemisphere  \n",
       "0            northern            northern  \n",
       "1  northern, southern            southern  \n",
       "2  northern, southern  northern, southern  \n",
       "3            northern            northern  \n",
       "4  northern, southern  northern, southern  "
      ],
      "text/html": "<div>\n<style scoped>\n    .dataframe tbody tr th:only-of-type {\n        vertical-align: middle;\n    }\n\n    .dataframe tbody tr th {\n        vertical-align: top;\n    }\n\n    .dataframe thead th {\n        text-align: right;\n    }\n</style>\n<table border=\"1\" class=\"dataframe\">\n  <thead>\n    <tr style=\"text-align: right;\">\n      <th></th>\n      <th>name</th>\n      <th>radiant</th>\n      <th>bestmonth</th>\n      <th>startmonth</th>\n      <th>startday</th>\n      <th>endmonth</th>\n      <th>endday</th>\n      <th>hemisphere</th>\n      <th>preferredhemisphere</th>\n    </tr>\n  </thead>\n  <tbody>\n    <tr>\n      <th>0</th>\n      <td>Lyrids</td>\n      <td>Lyra</td>\n      <td>4</td>\n      <td>4</td>\n      <td>21</td>\n      <td>4</td>\n      <td>22</td>\n      <td>northern</td>\n      <td>northern</td>\n    </tr>\n    <tr>\n      <th>1</th>\n      <td>Eta Aquarids</td>\n      <td>Aquarius</td>\n      <td>5</td>\n      <td>4</td>\n      <td>19</td>\n      <td>5</td>\n      <td>28</td>\n      <td>northern, southern</td>\n      <td>southern</td>\n    </tr>\n    <tr>\n      <th>2</th>\n      <td>Orionids</td>\n      <td>Orion</td>\n      <td>10</td>\n      <td>10</td>\n      <td>2</td>\n      <td>11</td>\n      <td>7</td>\n      <td>northern, southern</td>\n      <td>northern, southern</td>\n    </tr>\n    <tr>\n      <th>3</th>\n      <td>Perseids</td>\n      <td>Perseus</td>\n      <td>8</td>\n      <td>7</td>\n      <td>14</td>\n      <td>8</td>\n      <td>24</td>\n      <td>northern</td>\n      <td>northern</td>\n    </tr>\n    <tr>\n      <th>4</th>\n      <td>Leonids</td>\n      <td>Leo</td>\n      <td>11</td>\n      <td>11</td>\n      <td>6</td>\n      <td>11</td>\n      <td>30</td>\n      <td>northern, southern</td>\n      <td>northern, southern</td>\n    </tr>\n  </tbody>\n</table>\n</div>"
     },
     "metadata": {},
     "execution_count": 16
    }
   ],
   "source": [
    "meteor_showers.head()"
   ]
  },
  {
   "cell_type": "code",
   "execution_count": 17,
   "metadata": {},
   "outputs": [
    {
     "output_type": "stream",
     "name": "stdout",
     "text": [
      "<class 'pandas.core.frame.DataFrame'>\nRangeIndex: 6 entries, 0 to 5\nData columns (total 9 columns):\n #   Column               Non-Null Count  Dtype \n---  ------               --------------  ----- \n 0   name                 6 non-null      object\n 1   radiant              6 non-null      object\n 2   bestmonth            6 non-null      int64 \n 3   startmonth           6 non-null      int64 \n 4   startday             6 non-null      int64 \n 5   endmonth             6 non-null      int64 \n 6   endday               6 non-null      int64 \n 7   hemisphere           6 non-null      object\n 8   preferredhemisphere  6 non-null      object\ndtypes: int64(5), object(4)\nmemory usage: 560.0+ bytes\n"
     ]
    }
   ],
   "source": [
    "meteor_showers.info()"
   ]
  },
  {
   "cell_type": "code",
   "execution_count": 18,
   "metadata": {},
   "outputs": [
    {
     "output_type": "execute_result",
     "data": {
      "text/plain": [
       "   month  day      moonphase specialevent\n",
       "0      1    1            NaN          NaN\n",
       "1      1    2  first quarter          NaN\n",
       "2      1    3            NaN          NaN\n",
       "3      1    4            NaN          NaN\n",
       "4      1    5            NaN          NaN"
      ],
      "text/html": "<div>\n<style scoped>\n    .dataframe tbody tr th:only-of-type {\n        vertical-align: middle;\n    }\n\n    .dataframe tbody tr th {\n        vertical-align: top;\n    }\n\n    .dataframe thead th {\n        text-align: right;\n    }\n</style>\n<table border=\"1\" class=\"dataframe\">\n  <thead>\n    <tr style=\"text-align: right;\">\n      <th></th>\n      <th>month</th>\n      <th>day</th>\n      <th>moonphase</th>\n      <th>specialevent</th>\n    </tr>\n  </thead>\n  <tbody>\n    <tr>\n      <th>0</th>\n      <td>1</td>\n      <td>1</td>\n      <td>NaN</td>\n      <td>NaN</td>\n    </tr>\n    <tr>\n      <th>1</th>\n      <td>1</td>\n      <td>2</td>\n      <td>first quarter</td>\n      <td>NaN</td>\n    </tr>\n    <tr>\n      <th>2</th>\n      <td>1</td>\n      <td>3</td>\n      <td>NaN</td>\n      <td>NaN</td>\n    </tr>\n    <tr>\n      <th>3</th>\n      <td>1</td>\n      <td>4</td>\n      <td>NaN</td>\n      <td>NaN</td>\n    </tr>\n    <tr>\n      <th>4</th>\n      <td>1</td>\n      <td>5</td>\n      <td>NaN</td>\n      <td>NaN</td>\n    </tr>\n  </tbody>\n</table>\n</div>"
     },
     "metadata": {},
     "execution_count": 18
    }
   ],
   "source": [
    "moon_phases.head()"
   ]
  },
  {
   "cell_type": "code",
   "execution_count": 19,
   "metadata": {},
   "outputs": [
    {
     "output_type": "stream",
     "name": "stdout",
     "text": [
      "<class 'pandas.core.frame.DataFrame'>\nRangeIndex: 366 entries, 0 to 365\nData columns (total 4 columns):\n #   Column        Non-Null Count  Dtype \n---  ------        --------------  ----- \n 0   month         366 non-null    int64 \n 1   day           366 non-null    int64 \n 2   moonphase     50 non-null     object\n 3   specialevent  10 non-null     object\ndtypes: int64(2), object(2)\nmemory usage: 11.6+ KB\n"
     ]
    }
   ],
   "source": [
    "moon_phases.info()"
   ]
  },
  {
   "cell_type": "code",
   "execution_count": 20,
   "metadata": {},
   "outputs": [
    {
     "output_type": "execute_result",
     "data": {
      "text/plain": [
       "  constellation  bestmonth  latitudestart  latitudeend besttime hemisphere\n",
       "0          Lyra          8             90          -40    21:00   northern\n",
       "1      Aquarius         10             65          -90    21:00   southern\n",
       "2         Orion          1             85          -75    21:00   northern\n",
       "3       Perseus         12             90          -35    21:00   northern\n",
       "4           Leo          4             90           65    21:00   northern"
      ],
      "text/html": "<div>\n<style scoped>\n    .dataframe tbody tr th:only-of-type {\n        vertical-align: middle;\n    }\n\n    .dataframe tbody tr th {\n        vertical-align: top;\n    }\n\n    .dataframe thead th {\n        text-align: right;\n    }\n</style>\n<table border=\"1\" class=\"dataframe\">\n  <thead>\n    <tr style=\"text-align: right;\">\n      <th></th>\n      <th>constellation</th>\n      <th>bestmonth</th>\n      <th>latitudestart</th>\n      <th>latitudeend</th>\n      <th>besttime</th>\n      <th>hemisphere</th>\n    </tr>\n  </thead>\n  <tbody>\n    <tr>\n      <th>0</th>\n      <td>Lyra</td>\n      <td>8</td>\n      <td>90</td>\n      <td>-40</td>\n      <td>21:00</td>\n      <td>northern</td>\n    </tr>\n    <tr>\n      <th>1</th>\n      <td>Aquarius</td>\n      <td>10</td>\n      <td>65</td>\n      <td>-90</td>\n      <td>21:00</td>\n      <td>southern</td>\n    </tr>\n    <tr>\n      <th>2</th>\n      <td>Orion</td>\n      <td>1</td>\n      <td>85</td>\n      <td>-75</td>\n      <td>21:00</td>\n      <td>northern</td>\n    </tr>\n    <tr>\n      <th>3</th>\n      <td>Perseus</td>\n      <td>12</td>\n      <td>90</td>\n      <td>-35</td>\n      <td>21:00</td>\n      <td>northern</td>\n    </tr>\n    <tr>\n      <th>4</th>\n      <td>Leo</td>\n      <td>4</td>\n      <td>90</td>\n      <td>65</td>\n      <td>21:00</td>\n      <td>northern</td>\n    </tr>\n  </tbody>\n</table>\n</div>"
     },
     "metadata": {},
     "execution_count": 20
    }
   ],
   "source": [
    "constellations.head()"
   ]
  },
  {
   "cell_type": "code",
   "execution_count": 21,
   "metadata": {},
   "outputs": [
    {
     "output_type": "stream",
     "name": "stdout",
     "text": [
      "<class 'pandas.core.frame.DataFrame'>\nRangeIndex: 6 entries, 0 to 5\nData columns (total 6 columns):\n #   Column         Non-Null Count  Dtype \n---  ------         --------------  ----- \n 0   constellation  6 non-null      object\n 1   bestmonth      6 non-null      int64 \n 2   latitudestart  6 non-null      int64 \n 3   latitudeend    6 non-null      int64 \n 4   besttime       6 non-null      object\n 5   hemisphere     6 non-null      object\ndtypes: int64(3), object(3)\nmemory usage: 416.0+ bytes\n"
     ]
    }
   ],
   "source": [
    "constellations.info()"
   ]
  },
  {
   "cell_type": "code",
   "execution_count": 22,
   "metadata": {},
   "outputs": [],
   "source": [
    "meteor_showers['startdate'] = pd.to_datetime(2020*10000+meteor_showers.startmonth*100+meteor_showers.startday,format='%Y%m%d')\n",
    "meteor_showers['enddate'] = pd.to_datetime(2020*10000+meteor_showers.endmonth*100+meteor_showers.endday,format='%Y%m%d')"
   ]
  },
  {
   "cell_type": "code",
   "execution_count": 23,
   "metadata": {},
   "outputs": [
    {
     "output_type": "execute_result",
     "data": {
      "text/plain": [
       "           name   radiant  bestmonth  startmonth  startday  endmonth  endday  \\\n",
       "0        Lyrids      Lyra          4           4        21         4      22   \n",
       "1  Eta Aquarids  Aquarius          5           4        19         5      28   \n",
       "2      Orionids     Orion         10          10         2        11       7   \n",
       "3      Perseids   Perseus          8           7        14         8      24   \n",
       "4       Leonids       Leo         11          11         6        11      30   \n",
       "\n",
       "           hemisphere preferredhemisphere  startdate    enddate  \n",
       "0            northern            northern 2020-04-21 2020-04-22  \n",
       "1  northern, southern            southern 2020-04-19 2020-05-28  \n",
       "2  northern, southern  northern, southern 2020-10-02 2020-11-07  \n",
       "3            northern            northern 2020-07-14 2020-08-24  \n",
       "4  northern, southern  northern, southern 2020-11-06 2020-11-30  "
      ],
      "text/html": "<div>\n<style scoped>\n    .dataframe tbody tr th:only-of-type {\n        vertical-align: middle;\n    }\n\n    .dataframe tbody tr th {\n        vertical-align: top;\n    }\n\n    .dataframe thead th {\n        text-align: right;\n    }\n</style>\n<table border=\"1\" class=\"dataframe\">\n  <thead>\n    <tr style=\"text-align: right;\">\n      <th></th>\n      <th>name</th>\n      <th>radiant</th>\n      <th>bestmonth</th>\n      <th>startmonth</th>\n      <th>startday</th>\n      <th>endmonth</th>\n      <th>endday</th>\n      <th>hemisphere</th>\n      <th>preferredhemisphere</th>\n      <th>startdate</th>\n      <th>enddate</th>\n    </tr>\n  </thead>\n  <tbody>\n    <tr>\n      <th>0</th>\n      <td>Lyrids</td>\n      <td>Lyra</td>\n      <td>4</td>\n      <td>4</td>\n      <td>21</td>\n      <td>4</td>\n      <td>22</td>\n      <td>northern</td>\n      <td>northern</td>\n      <td>2020-04-21</td>\n      <td>2020-04-22</td>\n    </tr>\n    <tr>\n      <th>1</th>\n      <td>Eta Aquarids</td>\n      <td>Aquarius</td>\n      <td>5</td>\n      <td>4</td>\n      <td>19</td>\n      <td>5</td>\n      <td>28</td>\n      <td>northern, southern</td>\n      <td>southern</td>\n      <td>2020-04-19</td>\n      <td>2020-05-28</td>\n    </tr>\n    <tr>\n      <th>2</th>\n      <td>Orionids</td>\n      <td>Orion</td>\n      <td>10</td>\n      <td>10</td>\n      <td>2</td>\n      <td>11</td>\n      <td>7</td>\n      <td>northern, southern</td>\n      <td>northern, southern</td>\n      <td>2020-10-02</td>\n      <td>2020-11-07</td>\n    </tr>\n    <tr>\n      <th>3</th>\n      <td>Perseids</td>\n      <td>Perseus</td>\n      <td>8</td>\n      <td>7</td>\n      <td>14</td>\n      <td>8</td>\n      <td>24</td>\n      <td>northern</td>\n      <td>northern</td>\n      <td>2020-07-14</td>\n      <td>2020-08-24</td>\n    </tr>\n    <tr>\n      <th>4</th>\n      <td>Leonids</td>\n      <td>Leo</td>\n      <td>11</td>\n      <td>11</td>\n      <td>6</td>\n      <td>11</td>\n      <td>30</td>\n      <td>northern, southern</td>\n      <td>northern, southern</td>\n      <td>2020-11-06</td>\n      <td>2020-11-30</td>\n    </tr>\n  </tbody>\n</table>\n</div>"
     },
     "metadata": {},
     "execution_count": 23
    }
   ],
   "source": [
    "meteor_showers.head()"
   ]
  },
  {
   "cell_type": "code",
   "execution_count": 24,
   "metadata": {},
   "outputs": [],
   "source": [
    "moon_phases['date'] = pd.to_datetime(2020*10000+moon_phases.month*100+moon_phases.day,format='%Y%m%d')"
   ]
  },
  {
   "cell_type": "code",
   "execution_count": 25,
   "metadata": {},
   "outputs": [
    {
     "output_type": "execute_result",
     "data": {
      "text/plain": [
       "   month  day      moonphase specialevent       date\n",
       "0      1    1            NaN          NaN 2020-01-01\n",
       "1      1    2  first quarter          NaN 2020-01-02\n",
       "2      1    3            NaN          NaN 2020-01-03\n",
       "3      1    4            NaN          NaN 2020-01-04\n",
       "4      1    5            NaN          NaN 2020-01-05"
      ],
      "text/html": "<div>\n<style scoped>\n    .dataframe tbody tr th:only-of-type {\n        vertical-align: middle;\n    }\n\n    .dataframe tbody tr th {\n        vertical-align: top;\n    }\n\n    .dataframe thead th {\n        text-align: right;\n    }\n</style>\n<table border=\"1\" class=\"dataframe\">\n  <thead>\n    <tr style=\"text-align: right;\">\n      <th></th>\n      <th>month</th>\n      <th>day</th>\n      <th>moonphase</th>\n      <th>specialevent</th>\n      <th>date</th>\n    </tr>\n  </thead>\n  <tbody>\n    <tr>\n      <th>0</th>\n      <td>1</td>\n      <td>1</td>\n      <td>NaN</td>\n      <td>NaN</td>\n      <td>2020-01-01</td>\n    </tr>\n    <tr>\n      <th>1</th>\n      <td>1</td>\n      <td>2</td>\n      <td>first quarter</td>\n      <td>NaN</td>\n      <td>2020-01-02</td>\n    </tr>\n    <tr>\n      <th>2</th>\n      <td>1</td>\n      <td>3</td>\n      <td>NaN</td>\n      <td>NaN</td>\n      <td>2020-01-03</td>\n    </tr>\n    <tr>\n      <th>3</th>\n      <td>1</td>\n      <td>4</td>\n      <td>NaN</td>\n      <td>NaN</td>\n      <td>2020-01-04</td>\n    </tr>\n    <tr>\n      <th>4</th>\n      <td>1</td>\n      <td>5</td>\n      <td>NaN</td>\n      <td>NaN</td>\n      <td>2020-01-05</td>\n    </tr>\n  </tbody>\n</table>\n</div>"
     },
     "metadata": {},
     "execution_count": 25
    }
   ],
   "source": [
    "moon_phases.head()"
   ]
  },
  {
   "cell_type": "code",
   "execution_count": 26,
   "metadata": {},
   "outputs": [],
   "source": [
    "hemispheres = {'northern' : 0, 'southern' : 1, 'northern, southern' : 3}\n",
    "constellations.hemishphere = constellations.hemisphere.map(hemispheres)\n",
    "meteor_showers.hemishphere = meteor_showers.hemisphere.map(hemispheres)"
   ]
  },
  {
   "cell_type": "code",
   "execution_count": 27,
   "metadata": {},
   "outputs": [
    {
     "output_type": "execute_result",
     "data": {
      "text/plain": [
       "moonphase\n",
       "first quarter    13\n",
       "full moon        13\n",
       "new moon         12\n",
       "third quarter    12\n",
       "Name: moonphase, dtype: int64"
      ]
     },
     "metadata": {},
     "execution_count": 27
    }
   ],
   "source": [
    "check = moon_phases.groupby('moonphase')['moonphase'].count()\n",
    "check\n"
   ]
  },
  {
   "cell_type": "code",
   "execution_count": 28,
   "metadata": {},
   "outputs": [
    {
     "output_type": "execute_result",
     "data": {
      "text/plain": [
       "   month  day      moonphase specialevent       date  percentage\n",
       "0      1    1            NaN          NaN 2020-01-01         NaN\n",
       "1      1    2  first quarter          NaN 2020-01-02         0.5\n",
       "2      1    3            NaN          NaN 2020-01-03         NaN\n",
       "3      1    4            NaN          NaN 2020-01-04         NaN\n",
       "4      1    5            NaN          NaN 2020-01-05         NaN"
      ],
      "text/html": "<div>\n<style scoped>\n    .dataframe tbody tr th:only-of-type {\n        vertical-align: middle;\n    }\n\n    .dataframe tbody tr th {\n        vertical-align: top;\n    }\n\n    .dataframe thead th {\n        text-align: right;\n    }\n</style>\n<table border=\"1\" class=\"dataframe\">\n  <thead>\n    <tr style=\"text-align: right;\">\n      <th></th>\n      <th>month</th>\n      <th>day</th>\n      <th>moonphase</th>\n      <th>specialevent</th>\n      <th>date</th>\n      <th>percentage</th>\n    </tr>\n  </thead>\n  <tbody>\n    <tr>\n      <th>0</th>\n      <td>1</td>\n      <td>1</td>\n      <td>NaN</td>\n      <td>NaN</td>\n      <td>2020-01-01</td>\n      <td>NaN</td>\n    </tr>\n    <tr>\n      <th>1</th>\n      <td>1</td>\n      <td>2</td>\n      <td>first quarter</td>\n      <td>NaN</td>\n      <td>2020-01-02</td>\n      <td>0.5</td>\n    </tr>\n    <tr>\n      <th>2</th>\n      <td>1</td>\n      <td>3</td>\n      <td>NaN</td>\n      <td>NaN</td>\n      <td>2020-01-03</td>\n      <td>NaN</td>\n    </tr>\n    <tr>\n      <th>3</th>\n      <td>1</td>\n      <td>4</td>\n      <td>NaN</td>\n      <td>NaN</td>\n      <td>2020-01-04</td>\n      <td>NaN</td>\n    </tr>\n    <tr>\n      <th>4</th>\n      <td>1</td>\n      <td>5</td>\n      <td>NaN</td>\n      <td>NaN</td>\n      <td>2020-01-05</td>\n      <td>NaN</td>\n    </tr>\n  </tbody>\n</table>\n</div>"
     },
     "metadata": {},
     "execution_count": 28
    }
   ],
   "source": [
    "phases = {'new moon' : 0, 'first quarter' : 0.5, 'third quarter' : 0.5, 'full moon' : 1}\n",
    "moon_phases['percentage'] = moon_phases.moonphase.map(phases)\n",
    "moon_phases.head()"
   ]
  },
  {
   "cell_type": "code",
   "execution_count": 29,
   "metadata": {},
   "outputs": [],
   "source": [
    "meteor_showers = meteor_showers.drop(['startmonth', 'startday', 'endmonth', 'endday', 'hemisphere'], axis=1)\n",
    "moon_phases = moon_phases.drop(['month','day','moonphase','specialevent'], axis=1)\n",
    "constellations = constellations.drop(['besttime'], axis=1)"
   ]
  },
  {
   "cell_type": "code",
   "execution_count": 30,
   "metadata": {},
   "outputs": [
    {
     "output_type": "stream",
     "name": "stdout",
     "text": [
      "<class 'pandas.core.frame.DataFrame'>\nRangeIndex: 366 entries, 0 to 365\nData columns (total 2 columns):\n #   Column      Non-Null Count  Dtype         \n---  ------      --------------  -----         \n 0   date        366 non-null    datetime64[ns]\n 1   percentage  50 non-null     float64       \ndtypes: datetime64[ns](1), float64(1)\nmemory usage: 5.8 KB\n"
     ]
    }
   ],
   "source": [
    "moon_phases.info()"
   ]
  },
  {
   "cell_type": "code",
   "execution_count": 31,
   "metadata": {},
   "outputs": [],
   "source": [
    "import math\n"
   ]
  },
  {
   "cell_type": "code",
   "execution_count": 32,
   "metadata": {},
   "outputs": [
    {
     "output_type": "execute_result",
     "data": {
      "text/plain": [
       "        date  percentage\n",
       "0 2020-01-01         NaN\n",
       "1 2020-01-02         0.5\n",
       "2 2020-01-03         NaN\n",
       "3 2020-01-04         NaN\n",
       "4 2020-01-05         NaN"
      ],
      "text/html": "<div>\n<style scoped>\n    .dataframe tbody tr th:only-of-type {\n        vertical-align: middle;\n    }\n\n    .dataframe tbody tr th {\n        vertical-align: top;\n    }\n\n    .dataframe thead th {\n        text-align: right;\n    }\n</style>\n<table border=\"1\" class=\"dataframe\">\n  <thead>\n    <tr style=\"text-align: right;\">\n      <th></th>\n      <th>date</th>\n      <th>percentage</th>\n    </tr>\n  </thead>\n  <tbody>\n    <tr>\n      <th>0</th>\n      <td>2020-01-01</td>\n      <td>NaN</td>\n    </tr>\n    <tr>\n      <th>1</th>\n      <td>2020-01-02</td>\n      <td>0.5</td>\n    </tr>\n    <tr>\n      <th>2</th>\n      <td>2020-01-03</td>\n      <td>NaN</td>\n    </tr>\n    <tr>\n      <th>3</th>\n      <td>2020-01-04</td>\n      <td>NaN</td>\n    </tr>\n    <tr>\n      <th>4</th>\n      <td>2020-01-05</td>\n      <td>NaN</td>\n    </tr>\n  </tbody>\n</table>\n</div>"
     },
     "metadata": {},
     "execution_count": 32
    }
   ],
   "source": [
    "moon_phases.head()"
   ]
  },
  {
   "cell_type": "code",
   "execution_count": 33,
   "metadata": {},
   "outputs": [
    {
     "output_type": "stream",
     "name": "stdout",
     "text": [
      "<class 'pandas.core.frame.DataFrame'>\nRangeIndex: 366 entries, 0 to 365\nData columns (total 2 columns):\n #   Column      Non-Null Count  Dtype         \n---  ------      --------------  -----         \n 0   date        366 non-null    datetime64[ns]\n 1   percentage  366 non-null    float64       \ndtypes: datetime64[ns](1), float64(1)\nmemory usage: 5.8 KB\n"
     ]
    }
   ],
   "source": [
    "lastphase = 0\n",
    "for index, row in moon_phases.iterrows():\n",
    "    if pd.isnull(row['percentage']):\n",
    "        moon_phases.at[index, 'percentage'] = lastphase\n",
    "    else:\n",
    "        lastphase = row['percentage']\n",
    "\n",
    "moon_phases.info()"
   ]
  },
  {
   "cell_type": "code",
   "execution_count": 34,
   "metadata": {},
   "outputs": [
    {
     "output_type": "stream",
     "name": "stdout",
     "text": [
      "<class 'pandas.core.frame.DataFrame'>\nRangeIndex: 6 entries, 0 to 5\nData columns (total 6 columns):\n #   Column               Non-Null Count  Dtype         \n---  ------               --------------  -----         \n 0   name                 6 non-null      object        \n 1   radiant              6 non-null      object        \n 2   bestmonth            6 non-null      int64         \n 3   preferredhemisphere  6 non-null      object        \n 4   startdate            6 non-null      datetime64[ns]\n 5   enddate              6 non-null      datetime64[ns]\ndtypes: datetime64[ns](2), int64(1), object(3)\nmemory usage: 416.0+ bytes\n"
     ]
    }
   ],
   "source": [
    "meteor_showers.info()"
   ]
  },
  {
   "cell_type": "code",
   "execution_count": 35,
   "metadata": {},
   "outputs": [
    {
     "output_type": "stream",
     "name": "stdout",
     "text": [
      "<class 'pandas.core.frame.DataFrame'>\nRangeIndex: 366 entries, 0 to 365\nData columns (total 2 columns):\n #   Column      Non-Null Count  Dtype         \n---  ------      --------------  -----         \n 0   date        366 non-null    datetime64[ns]\n 1   percentage  366 non-null    float64       \ndtypes: datetime64[ns](1), float64(1)\nmemory usage: 5.8 KB\n"
     ]
    }
   ],
   "source": [
    "moon_phases.info()"
   ]
  },
  {
   "cell_type": "code",
   "execution_count": 36,
   "metadata": {},
   "outputs": [
    {
     "output_type": "stream",
     "name": "stdout",
     "text": [
      "<class 'pandas.core.frame.DataFrame'>\nRangeIndex: 256 entries, 0 to 255\nData columns (total 3 columns):\n #   Column    Non-Null Count  Dtype  \n---  ------    --------------  -----  \n 0   city      256 non-null    object \n 1   latitude  256 non-null    float64\n 2   country   256 non-null    object \ndtypes: float64(1), object(2)\nmemory usage: 6.1+ KB\n"
     ]
    }
   ],
   "source": [
    "cities.info()"
   ]
  },
  {
   "cell_type": "code",
   "execution_count": 37,
   "metadata": {},
   "outputs": [
    {
     "output_type": "stream",
     "name": "stdout",
     "text": [
      "<class 'pandas.core.frame.DataFrame'>\nRangeIndex: 6 entries, 0 to 5\nData columns (total 5 columns):\n #   Column         Non-Null Count  Dtype \n---  ------         --------------  ----- \n 0   constellation  6 non-null      object\n 1   bestmonth      6 non-null      int64 \n 2   latitudestart  6 non-null      int64 \n 3   latitudeend    6 non-null      int64 \n 4   hemisphere     6 non-null      object\ndtypes: int64(3), object(2)\nmemory usage: 368.0+ bytes\n"
     ]
    }
   ],
   "source": [
    "constellations.info()"
   ]
  },
  {
   "cell_type": "code",
   "execution_count": 38,
   "metadata": {},
   "outputs": [],
   "source": [
    "def predict_best_meteor_shower_viewing(city):\n",
    "    meteor_shower_string = \"\"\n",
    "\n",
    "    if city not in cities.values:\n",
    "        meteor_shower_string = \"Unfortunately, \"+ city +\" isn't available for a prediction at this time.\"\n",
    "        return meteor_shower_string\n",
    "    \n",
    "    # Getting latitude from city\n",
    "    latitude = cities.loc[cities['city'] == city, 'latitude'].iloc[0]\n",
    "    \n",
    "    # List of constellation\n",
    "    constellation_list = constellations.loc[(constellations['latitudestart'] >= latitude) & (constellations['latitudeend'] <=     latitude), 'constellation'].tolist()\n",
    "\n",
    "    if not constellation_list:\n",
    "        meteor_shower_string = \"Unfortunately, there are no visible meteor showers from \" + city + \".\"\n",
    "        return meteor_shower_string\n",
    "\n",
    "    meteor_shower_string = \"In \" + city + \" you can see following meteor showers:\\n\"\n",
    "\n",
    "    for constellation in constellation_list:\n",
    "        # Find the meteor shower that is nearest to that constellation\n",
    "        meteor_shower = meteor_showers.loc[meteor_showers['radiant'] == constellation, 'name'].iloc[0]\n",
    "\n",
    "        # Find the start and end dates for that meteor shower\n",
    "        meteor_shower_startdate = meteor_showers.loc[meteor_showers['radiant'] == constellation, 'startdate'].iloc[0]\n",
    "        meteor_shower_enddate = meteor_showers.loc[meteor_showers['radiant'] == constellation, 'enddate'].iloc[0]\n",
    "\n",
    "        # Find the Moon phases for each date within the viewable time frame of that meteor shower\n",
    "        moon_phases_list = moon_phases.loc[(moon_phases['date'] >= meteor_shower_startdate) & (moon_phases['date'] <=                 meteor_shower_enddate)]\n",
    "\n",
    "        \n",
    "\n",
    "        if meteor_shower == 'Chang\\'e':\n",
    "            # For the film meteor shower, find the date where the Moon is the most visible\n",
    "            best_moon_date = moon_phases_list.loc[moon_phases_list['percentage'].idxmax()]['date']\n",
    "\n",
    "            # Add that date to the string to report back to the user\n",
    "            meteor_shower_string += \"Though the Moon will be bright, \" + meteor_shower +                                                  \"'s meteor shower is best seen if you look towards the \" + constellation + \" constellation on \" +                             best_moon_date.to_pydatetime().strftime(\"%B %d, %Y\") + \".\\n\"\n",
    "        else:\n",
    "            # Find the first date where the Moon is the least visible\n",
    "            best_moon_date = moon_phases_list.loc[moon_phases_list['percentage'].idxmin()]['date']\n",
    "\n",
    "            # Add that date to the string to report back to the user\n",
    "            meteor_shower_string += meteor_shower + \" is best seen if you look towards the \" + constellation +                            \" constellation on \" +  best_moon_date.to_pydatetime().strftime(\"%B %d, %Y\") + \".\\n\"\n",
    "    \n",
    "    return meteor_shower_string"
   ]
  },
  {
   "cell_type": "code",
   "execution_count": 39,
   "metadata": {},
   "outputs": [
    {
     "output_type": "stream",
     "name": "stdout",
     "text": [
      "In New Delhi you can see following meteor showers:\nLyrids is best seen if you look towards the Lyra constellation on April 22, 2020.\nEta Aquarids is best seen if you look towards the Aquarius constellation on April 22, 2020.\nOrionids is best seen if you look towards the Orion constellation on October 16, 2020.\nPerseids is best seen if you look towards the Perseus constellation on July 20, 2020.\nThough the Moon will be bright, Chang'e's meteor shower is best seen if you look towards the Draco constellation on October 01, 2020.\n\n"
     ]
    }
   ],
   "source": [
    "print(predict_best_meteor_shower_viewing('New Delhi'))"
   ]
  },
  {
   "cell_type": "code",
   "execution_count": 40,
   "metadata": {},
   "outputs": [
    {
     "output_type": "execute_result",
     "data": {
      "text/plain": [
       "       percentage\n",
       "count  366.000000\n",
       "mean     0.505464\n",
       "std      0.353026\n",
       "min      0.000000\n",
       "25%      0.500000\n",
       "50%      0.500000\n",
       "75%      1.000000\n",
       "max      1.000000"
      ],
      "text/html": "<div>\n<style scoped>\n    .dataframe tbody tr th:only-of-type {\n        vertical-align: middle;\n    }\n\n    .dataframe tbody tr th {\n        vertical-align: top;\n    }\n\n    .dataframe thead th {\n        text-align: right;\n    }\n</style>\n<table border=\"1\" class=\"dataframe\">\n  <thead>\n    <tr style=\"text-align: right;\">\n      <th></th>\n      <th>percentage</th>\n    </tr>\n  </thead>\n  <tbody>\n    <tr>\n      <th>count</th>\n      <td>366.000000</td>\n    </tr>\n    <tr>\n      <th>mean</th>\n      <td>0.505464</td>\n    </tr>\n    <tr>\n      <th>std</th>\n      <td>0.353026</td>\n    </tr>\n    <tr>\n      <th>min</th>\n      <td>0.000000</td>\n    </tr>\n    <tr>\n      <th>25%</th>\n      <td>0.500000</td>\n    </tr>\n    <tr>\n      <th>50%</th>\n      <td>0.500000</td>\n    </tr>\n    <tr>\n      <th>75%</th>\n      <td>1.000000</td>\n    </tr>\n    <tr>\n      <th>max</th>\n      <td>1.000000</td>\n    </tr>\n  </tbody>\n</table>\n</div>"
     },
     "metadata": {},
     "execution_count": 40
    }
   ],
   "source": [
    "moon_phases.describe()"
   ]
  },
  {
   "cell_type": "code",
   "execution_count": null,
   "metadata": {},
   "outputs": [],
   "source": []
  }
 ]
}